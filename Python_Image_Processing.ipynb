{
 "cells": [
  {
   "cell_type": "code",
   "execution_count": 34,
   "id": "b9e869c6",
   "metadata": {},
   "outputs": [
    {
     "name": "stdout",
     "output_type": "stream",
     "text": [
      "Notification: Pillow is already installed.\n"
     ]
    }
   ],
   "source": [
    "# Importing or Installing Required Libraries\n",
    "import sys\n",
    "import os\n",
    "\n",
    "try:\n",
    "    # Try to import Pillow library\n",
    "    from PIL import Image, ImageFilter\n",
    "    print(\"Notification: Pillow is already installed.\")\n",
    "except ImportError:\n",
    "    # If Pillow library is not found, try to install it using pip\n",
    "    try:\n",
    "        import subprocess\n",
    "        subprocess.check_call([sys.executable, '-m', 'pip', 'install', 'pillow'])\n",
    "        from PIL import Image\n",
    "    except subprocess.CalledProcessError:\n",
    "        print('Error: Could not install Pillow library. Please install it manually.')\n",
    "        sys.exit(1)\n"
   ]
  },
  {
   "cell_type": "code",
   "execution_count": 35,
   "id": "e921037b",
   "metadata": {},
   "outputs": [
    {
     "name": "stdout",
     "output_type": "stream",
     "text": [
      "Present working directory is: /Users/adiya/Desktop/Python_Projects/04_Python_Image_Processing\n"
     ]
    }
   ],
   "source": [
    "# Find the path to the Present Working Directory\n",
    "\n",
    "try:\n",
    "    # Try to get the present working directory\n",
    "    pwd = os.getcwd()\n",
    "except OSError as e:\n",
    "    # If an OSError occurs, print an error message and exit the program\n",
    "    print(f\"Error: {e}\")\n",
    "    sys.exit(1)\n",
    "\n",
    "# Print the present working directory\n",
    "print(\"Present working directory is:\", pwd)\n"
   ]
  },
  {
   "cell_type": "code",
   "execution_count": 29,
   "id": "7d0b24b9",
   "metadata": {},
   "outputs": [],
   "source": [
    "# Get the relative path to the Image File\n",
    "\n",
    "try:\n",
    "    # Get the path of the image file\n",
    "    filename = 'image.jpg'\n",
    "    path = os.path.join(os.getcwd(), filename)\n",
    "\n",
    "    # Open the image file\n",
    "    image = Image.open(path)\n",
    "\n",
    "    # Display the image\n",
    "    image.show()\n",
    "except (FileNotFoundError, OSError) as e:\n",
    "    # If a file not found or OSError occurs, print an error message and exit the program\n",
    "    print(f\"Error: {e}\")\n",
    "    sys.exit(1)\n"
   ]
  },
  {
   "cell_type": "code",
   "execution_count": 37,
   "id": "3c027ae5",
   "metadata": {},
   "outputs": [],
   "source": [
    "# Resize the image\n",
    "try:\n",
    "    # Resize the image\n",
    "    size = (500, 500)\n",
    "    resized_image = image.resize(size)\n",
    "    resized_image.show()\n",
    "except Exception as e:\n",
    "    # If another type of exception occurs, print an error message and exit the program\n",
    "    print(f\"Error: {e}\")\n",
    "    sys.exit(1)"
   ]
  },
  {
   "cell_type": "code",
   "execution_count": 31,
   "id": "90650a80",
   "metadata": {},
   "outputs": [],
   "source": [
    "# Crop the image\n",
    "try:\n",
    "    box = (100, 100, 400, 400)\n",
    "    cropped_image = image.crop(box)\n",
    "    cropped_image.show()\n",
    "except Exception as e:\n",
    "    # If another type of exception occurs, print an error message and exit the program\n",
    "    print(f\"Error: {e}\")\n",
    "    sys.exit(1)"
   ]
  },
  {
   "cell_type": "code",
   "execution_count": 32,
   "id": "44a269bd",
   "metadata": {},
   "outputs": [],
   "source": [
    "# Blur the image\n",
    "try:\n",
    "    blurred_image = image.filter(ImageFilter.BLUR)\n",
    "    blurred_image.show()\n",
    "except Exception as e:\n",
    "    # If another type of exception occurs, print an error message and exit the program\n",
    "    print(f\"Error: {e}\")\n",
    "    sys.exit(1)"
   ]
  },
  {
   "cell_type": "code",
   "execution_count": 33,
   "id": "407c4e9a",
   "metadata": {},
   "outputs": [],
   "source": [
    "# Save the output\n",
    "try:\n",
    "    resized_image.save('resized_image.jpg')\n",
    "    cropped_image.save('cropped_image.jpg')\n",
    "    blurred_image.save('blurred_image.jpg')\n",
    "except Exception as e:\n",
    "    # If another type of exception occurs, print an error message and exit the program\n",
    "    print(f\"Error: {e}\")\n",
    "    sys.exit(1)\n"
   ]
  },
  {
   "cell_type": "code",
   "execution_count": null,
   "id": "1c3aff50",
   "metadata": {},
   "outputs": [],
   "source": []
  }
 ],
 "metadata": {
  "kernelspec": {
   "display_name": "Python 3 (ipykernel)",
   "language": "python",
   "name": "python3"
  },
  "language_info": {
   "codemirror_mode": {
    "name": "ipython",
    "version": 3
   },
   "file_extension": ".py",
   "mimetype": "text/x-python",
   "name": "python",
   "nbconvert_exporter": "python",
   "pygments_lexer": "ipython3",
   "version": "3.9.13"
  }
 },
 "nbformat": 4,
 "nbformat_minor": 5
}
